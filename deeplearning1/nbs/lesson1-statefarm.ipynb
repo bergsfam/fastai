{
 "cells": [
  {
   "cell_type": "code",
   "execution_count": 1,
   "metadata": {
    "collapsed": true
   },
   "outputs": [],
   "source": [
    "%matplotlib inline"
   ]
  },
  {
   "cell_type": "markdown",
   "metadata": {},
   "source": [
    "Now I need to do my imports"
   ]
  },
  {
   "cell_type": "code",
   "execution_count": 2,
   "metadata": {},
   "outputs": [
    {
     "name": "stderr",
     "output_type": "stream",
     "text": [
      "WARNING (theano.sandbox.cuda): The cuda backend is deprecated and will be removed in the next release (v0.10).  Please switch to the gpuarray backend. You can get more information about how to switch at this URL:\n",
      " https://github.com/Theano/Theano/wiki/Converting-to-the-new-gpu-back-end%28gpuarray%29\n",
      "\n",
      "Using gpu device 0: Quadro M4000 (CNMeM is disabled, cuDNN 5110)\n",
      "Using Theano backend.\n"
     ]
    }
   ],
   "source": [
    "from utils import *\n",
    "from vgg16 import Vgg16"
   ]
  },
  {
   "cell_type": "code",
   "execution_count": 3,
   "metadata": {
    "collapsed": true
   },
   "outputs": [],
   "source": [
    "batch_size = 64"
   ]
  },
  {
   "cell_type": "markdown",
   "metadata": {},
   "source": [
    "Set up paths"
   ]
  },
  {
   "cell_type": "code",
   "execution_count": 18,
   "metadata": {
    "collapsed": true
   },
   "outputs": [],
   "source": [
    "sample_path = \"data/statefarm/sample/\"\n",
    "\n",
    "#path = sample_path\n",
    "path = \"data/statefarm/\"\n",
    "\n",
    "training_path = path + 'train'\n",
    "validation_path = path + 'valid'\n",
    "test_path = path + 'test'\n",
    "results_path = path + 'results'\n",
    "submission_path = path + 'submission'  #For kaggle comps"
   ]
  },
  {
   "cell_type": "markdown",
   "metadata": {},
   "source": [
    "Set up working paths"
   ]
  },
  {
   "cell_type": "code",
   "execution_count": 6,
   "metadata": {},
   "outputs": [
    {
     "name": "stdout",
     "output_type": "stream",
     "text": [
      "Current working dir: /home/paperspace/Projects/courses/deeplearning1/nbs\n"
     ]
    }
   ],
   "source": [
    "# commands go here\n",
    "# Can I turn this into a util function\n",
    "\n",
    "print('Current working dir: %s') %os.getcwd()\n",
    "\n",
    "current_dir = os.getcwd()\n",
    "LESSON_HOME_DIR = current_dir\n",
    "DATA_HOME_DIR = current_dir+'/data/statefarm'\n"
   ]
  },
  {
   "cell_type": "markdown",
   "metadata": {},
   "source": [
    "Create directories"
   ]
  },
  {
   "cell_type": "code",
   "execution_count": 8,
   "metadata": {},
   "outputs": [
    {
     "name": "stdout",
     "output_type": "stream",
     "text": [
      "/home/paperspace/Projects/courses/deeplearning1/nbs/data/statefarm\n",
      "mkdir: cannot create directory ‘valid’: File exists\n",
      "mkdir: cannot create directory ‘results’: File exists\n",
      "mkdir: cannot create directory ‘submission’: File exists\n"
     ]
    }
   ],
   "source": [
    "%cd $DATA_HOME_DIR\n",
    "%mkdir valid\n",
    "%mkdir results\n",
    "%mkdir submission\n",
    "%mkdir -p sample/train\n",
    "%mkdir -p sample/test\n",
    "%mkdir -p sample/valid\n",
    "%mkdir -p sample/results\n",
    "%mkdir -p sample/submission\n",
    "%mkdir -p test/unknown"
   ]
  },
  {
   "cell_type": "markdown",
   "metadata": {},
   "source": [
    "Build validation set\n",
    "\n",
    "Copy files from train to valid"
   ]
  },
  {
   "cell_type": "code",
   "execution_count": 9,
   "metadata": {},
   "outputs": [
    {
     "name": "stdout",
     "output_type": "stream",
     "text": [
      "/home/paperspace/Projects/courses/deeplearning1/nbs/data/statefarm/train\n"
     ]
    }
   ],
   "source": [
    "%cd $DATA_HOME_DIR/train"
   ]
  },
  {
   "cell_type": "code",
   "execution_count": 10,
   "metadata": {
    "collapsed": true
   },
   "outputs": [],
   "source": [
    "for d in glob('c?'):\n",
    "    os.mkdir('../valid/'+d)\n",
    "\n",
    "g = glob('c?/*.jpg')\n",
    "shuf = np.random.permutation(g)\n",
    "for i in range(2000): os.rename(shuf[i], DATA_HOME_DIR+'/valid/' + shuf[i])"
   ]
  },
  {
   "cell_type": "code",
   "execution_count": 11,
   "metadata": {
    "collapsed": true
   },
   "outputs": [],
   "source": [
    "from shutil import copyfile"
   ]
  },
  {
   "cell_type": "markdown",
   "metadata": {},
   "source": [
    "Create directories in sample for each of the categories"
   ]
  },
  {
   "cell_type": "code",
   "execution_count": 13,
   "metadata": {},
   "outputs": [],
   "source": [
    "for d in glob('c?'):\n",
    "    os.mkdir('../sample/train/'+d)\n",
    "    os.mkdir('../sample/valid/'+d)"
   ]
  },
  {
   "cell_type": "code",
   "execution_count": 14,
   "metadata": {
    "collapsed": true
   },
   "outputs": [],
   "source": [
    "g = glob('c?/*.jpg')\n",
    "shuf = np.random.permutation(g)\n",
    "for i in range(1500): copyfile(shuf[i], '../sample/train/' + shuf[i])"
   ]
  },
  {
   "cell_type": "code",
   "execution_count": 15,
   "metadata": {},
   "outputs": [
    {
     "name": "stdout",
     "output_type": "stream",
     "text": [
      "/home/paperspace/Projects/courses/deeplearning1/nbs/data/statefarm/valid\n"
     ]
    }
   ],
   "source": [
    "%cd ../valid"
   ]
  },
  {
   "cell_type": "code",
   "execution_count": 16,
   "metadata": {
    "collapsed": true
   },
   "outputs": [],
   "source": [
    "g = glob('c?/*.jpg')\n",
    "shuf = np.random.permutation(g)\n",
    "for i in range(1000): copyfile(shuf[i], '../sample/valid/' + shuf[i])"
   ]
  },
  {
   "cell_type": "code",
   "execution_count": 17,
   "metadata": {},
   "outputs": [
    {
     "name": "stdout",
     "output_type": "stream",
     "text": [
      "/home/paperspace/Projects/courses/deeplearning1/nbs\n"
     ]
    }
   ],
   "source": [
    "%cd ../../.."
   ]
  },
  {
   "cell_type": "markdown",
   "metadata": {},
   "source": [
    "Now set up the model"
   ]
  },
  {
   "cell_type": "code",
   "execution_count": 19,
   "metadata": {},
   "outputs": [
    {
     "name": "stdout",
     "output_type": "stream",
     "text": [
      "Found 20424 images belonging to 10 classes.\n",
      "Found 2000 images belonging to 10 classes.\n"
     ]
    }
   ],
   "source": [
    "vgg = Vgg16()\n",
    "batches = vgg.get_batches(training_path, batch_size=batch_size)\n",
    "val_batches = vgg.get_batches(validation_path, batch_size=batch_size*2)\n",
    "vgg.finetune(batches)"
   ]
  },
  {
   "cell_type": "code",
   "execution_count": 20,
   "metadata": {
    "collapsed": true
   },
   "outputs": [],
   "source": [
    "num_epochs = 5"
   ]
  },
  {
   "cell_type": "code",
   "execution_count": 22,
   "metadata": {},
   "outputs": [
    {
     "name": "stdout",
     "output_type": "stream",
     "text": [
      "Running epoch: 0\n",
      "Epoch 1/1\n",
      "20424/20424 [==============================] - 513s - loss: 1.0694 - acc: 0.6627 - val_loss: 0.3702 - val_acc: 0.8965\n",
      "Running epoch: 1\n",
      "Epoch 1/1\n",
      "20424/20424 [==============================] - 518s - loss: 0.9351 - acc: 0.7018 - val_loss: 0.2892 - val_acc: 0.9275\n",
      "Running epoch: 2\n",
      "Epoch 1/1\n",
      "20424/20424 [==============================] - 514s - loss: 0.8820 - acc: 0.7175 - val_loss: 0.2880 - val_acc: 0.9200\n",
      "Running epoch: 3\n",
      "Epoch 1/1\n",
      "20424/20424 [==============================] - 514s - loss: 0.8690 - acc: 0.7260 - val_loss: 0.2685 - val_acc: 0.9235\n",
      "Running epoch: 4\n",
      "Epoch 1/1\n",
      "20424/20424 [==============================] - 513s - loss: 0.8773 - acc: 0.7283 - val_loss: 0.2216 - val_acc: 0.9380\n",
      "Completed 5 epochs!\n"
     ]
    }
   ],
   "source": [
    "for epoch_num in range(num_epochs):\n",
    "    print('Running epoch: %i') % epoch_num\n",
    "    vgg.fit(batches, val_batches, nb_epoch=1)\n",
    "    latest_weights_filename = 'ft%d.h5' % epoch_num\n",
    "    vgg.model.save_weights(results_path+'/'+latest_weights_filename)\n",
    "print(\"Completed %d epochs!\") %num_epochs"
   ]
  },
  {
   "cell_type": "code",
   "execution_count": 25,
   "metadata": {
    "scrolled": true
   },
   "outputs": [
    {
     "name": "stdout",
     "output_type": "stream",
     "text": [
      "Found 79726 images belonging to 1 classes.\n"
     ]
    }
   ],
   "source": [
    "batches, predictions = vgg.test(test_path+'/', batch_size=batch_size*2)"
   ]
  },
  {
   "cell_type": "code",
   "execution_count": 27,
   "metadata": {},
   "outputs": [
    {
     "name": "stdout",
     "output_type": "stream",
     "text": [
      "[[  1.7160e-02   1.6687e-04   4.9131e-01   3.1354e-04   5.9125e-03   5.4914e-03   4.2073e-01\n",
      "    6.7505e-04   5.6945e-02   1.2886e-03]\n",
      " [  2.0337e-04   9.6896e-02   2.0614e-03   7.6486e-03   5.4816e-02   1.5609e-02   8.0979e-02\n",
      "    3.7838e-01   3.2753e-01   3.5884e-02]\n",
      " [  6.8442e-03   2.6620e-03   5.9042e-02   5.8311e-03   2.0003e-01   4.9203e-02   5.3324e-01\n",
      "    1.9789e-05   7.1470e-02   7.1658e-02]\n",
      " [  3.9611e-01   1.1534e-01   3.7099e-04   1.3818e-01   8.9354e-02   1.7916e-01   3.4354e-03\n",
      "    1.2404e-04   2.4930e-02   5.2995e-02]\n",
      " [  1.3958e-02   2.2939e-01   7.7875e-05   1.5845e-02   2.8932e-04   6.9197e-01   3.3709e-02\n",
      "    4.7598e-04   2.5911e-03   1.1695e-02]\n",
      " [  2.2241e-03   3.1662e-02   4.4102e-03   5.5165e-01   1.2102e-01   2.7062e-02   2.2046e-01\n",
      "    1.2675e-03   3.9964e-02   2.8597e-04]\n",
      " [  1.2850e-04   2.2435e-05   6.5521e-06   7.1047e-06   3.6648e-04   9.7228e-02   1.5854e-05\n",
      "    8.9517e-06   1.3923e-02   8.8829e-01]\n",
      " [  5.3737e-03   2.6260e-03   3.6020e-06   9.7257e-01   3.2062e-03   3.2580e-03   4.9077e-03\n",
      "    1.9933e-04   4.0817e-03   3.7724e-03]\n",
      " [  5.3990e-05   1.3212e-01   1.9164e-04   2.8293e-01   4.9658e-03   1.1782e-01   4.5387e-01\n",
      "    4.2888e-04   5.0880e-03   2.5249e-03]\n",
      " [  6.0850e-03   6.5352e-03   2.9843e-01   4.4990e-03   7.2219e-04   1.4134e-01   1.0523e-02\n",
      "    1.1560e-03   2.1970e-01   3.1100e-01]]\n"
     ]
    }
   ],
   "source": [
    "print(predictions[:10])"
   ]
  },
  {
   "cell_type": "markdown",
   "metadata": {},
   "source": [
    "Hold off on this part until I understand the submission format\n",
    "\n",
    "img, c0, c1, ... c9"
   ]
  },
  {
   "cell_type": "code",
   "execution_count": 28,
   "metadata": {},
   "outputs": [
    {
     "name": "stdout",
     "output_type": "stream",
     "text": [
      "['unknown/img_64880.jpg', 'unknown/img_14880.jpg', 'unknown/img_51085.jpg', 'unknown/img_4678.jpg', 'unknown/img_65918.jpg', 'unknown/img_41634.jpg', 'unknown/img_46989.jpg', 'unknown/img_45134.jpg', 'unknown/img_64717.jpg', 'unknown/img_24311.jpg']\n"
     ]
    }
   ],
   "source": [
    "filenames = batches.filenames\n",
    "print(filenames[:10])"
   ]
  },
  {
   "cell_type": "code",
   "execution_count": 30,
   "metadata": {},
   "outputs": [
    {
     "ename": "ValueError",
     "evalue": "all input arrays must have the same shape",
     "output_type": "error",
     "traceback": [
      "\u001b[0;31m---------------------------------------------------------------------------\u001b[0m",
      "\u001b[0;31mValueError\u001b[0m                                Traceback (most recent call last)",
      "\u001b[0;32m<ipython-input-30-43fe3ebda373>\u001b[0m in \u001b[0;36m<module>\u001b[0;34m()\u001b[0m\n\u001b[1;32m      6\u001b[0m \u001b[0mids\u001b[0m \u001b[0;34m=\u001b[0m \u001b[0mnp\u001b[0m\u001b[0;34m.\u001b[0m\u001b[0marray\u001b[0m\u001b[0;34m(\u001b[0m\u001b[0;34m[\u001b[0m\u001b[0mf\u001b[0m\u001b[0;34m[\u001b[0m\u001b[0;36m8\u001b[0m\u001b[0;34m:\u001b[0m\u001b[0;34m]\u001b[0m \u001b[0;32mfor\u001b[0m \u001b[0mf\u001b[0m \u001b[0;32min\u001b[0m \u001b[0mfilenames\u001b[0m\u001b[0;34m]\u001b[0m\u001b[0;34m)\u001b[0m\u001b[0;34m\u001b[0m\u001b[0m\n\u001b[1;32m      7\u001b[0m \u001b[0;34m\u001b[0m\u001b[0m\n\u001b[0;32m----> 8\u001b[0;31m \u001b[0msubm\u001b[0m \u001b[0;34m=\u001b[0m \u001b[0mnp\u001b[0m\u001b[0;34m.\u001b[0m\u001b[0mstack\u001b[0m\u001b[0;34m(\u001b[0m\u001b[0;34m[\u001b[0m\u001b[0mids\u001b[0m\u001b[0;34m,\u001b[0m\u001b[0mpredictions\u001b[0m\u001b[0;34m]\u001b[0m\u001b[0;34m,\u001b[0m \u001b[0maxis\u001b[0m\u001b[0;34m=\u001b[0m\u001b[0;36m1\u001b[0m\u001b[0;34m)\u001b[0m\u001b[0;34m\u001b[0m\u001b[0m\n\u001b[0m\u001b[1;32m      9\u001b[0m \u001b[0;34m\u001b[0m\u001b[0m\n\u001b[1;32m     10\u001b[0m np.savetxt(results_path + '/' + submission_file_name, subm, \n",
      "\u001b[0;32m/usr/local/lib/python2.7/dist-packages/numpy/core/shape_base.pyc\u001b[0m in \u001b[0;36mstack\u001b[0;34m(arrays, axis)\u001b[0m\n\u001b[1;32m    352\u001b[0m     \u001b[0mshapes\u001b[0m \u001b[0;34m=\u001b[0m \u001b[0mset\u001b[0m\u001b[0;34m(\u001b[0m\u001b[0marr\u001b[0m\u001b[0;34m.\u001b[0m\u001b[0mshape\u001b[0m \u001b[0;32mfor\u001b[0m \u001b[0marr\u001b[0m \u001b[0;32min\u001b[0m \u001b[0marrays\u001b[0m\u001b[0;34m)\u001b[0m\u001b[0;34m\u001b[0m\u001b[0m\n\u001b[1;32m    353\u001b[0m     \u001b[0;32mif\u001b[0m \u001b[0mlen\u001b[0m\u001b[0;34m(\u001b[0m\u001b[0mshapes\u001b[0m\u001b[0;34m)\u001b[0m \u001b[0;34m!=\u001b[0m \u001b[0;36m1\u001b[0m\u001b[0;34m:\u001b[0m\u001b[0;34m\u001b[0m\u001b[0m\n\u001b[0;32m--> 354\u001b[0;31m         \u001b[0;32mraise\u001b[0m \u001b[0mValueError\u001b[0m\u001b[0;34m(\u001b[0m\u001b[0;34m'all input arrays must have the same shape'\u001b[0m\u001b[0;34m)\u001b[0m\u001b[0;34m\u001b[0m\u001b[0m\n\u001b[0m\u001b[1;32m    355\u001b[0m \u001b[0;34m\u001b[0m\u001b[0m\n\u001b[1;32m    356\u001b[0m     \u001b[0mresult_ndim\u001b[0m \u001b[0;34m=\u001b[0m \u001b[0marrays\u001b[0m\u001b[0;34m[\u001b[0m\u001b[0;36m0\u001b[0m\u001b[0;34m]\u001b[0m\u001b[0;34m.\u001b[0m\u001b[0mndim\u001b[0m \u001b[0;34m+\u001b[0m \u001b[0;36m1\u001b[0m\u001b[0;34m\u001b[0m\u001b[0m\n",
      "\u001b[0;31mValueError\u001b[0m: all input arrays must have the same shape"
     ]
    }
   ],
   "source": [
    "submission_file_name = 'submission1.csv'\n",
    "\n",
    "#pred_sub = predictions.clip(min=0.01, max=0.95)\n",
    "\n",
    "filenames = batches.filenames\n",
    "ids = np.array([f[8:] for f in filenames])\n",
    "\n",
    "subm = np.stack([ids,predictions], axis=1)\n",
    "\n",
    "np.savetxt(results_path + '/' + submission_file_name, subm, \n",
    "           fmt='%d,%.5f,%.5f,%.5f,%.5f,%.5f,%.5f,%.5f,%.5f,%.5f,%.5f', \n",
    "           header='img,c0,c1,c2,c3,c4,c5,c6,c7,c8,c9', comments='')"
   ]
  },
  {
   "cell_type": "code",
   "execution_count": 25,
   "metadata": {},
   "outputs": [
    {
     "data": {
      "text/plain": [
       "u'/home/paperspace/Projects/courses/deeplearning1/nbs'"
      ]
     },
     "execution_count": 25,
     "metadata": {},
     "output_type": "execute_result"
    }
   ],
   "source": [
    "%pwd"
   ]
  },
  {
   "cell_type": "markdown",
   "metadata": {},
   "source": [
    "Five epoch training got me to Rank 340 / 1314"
   ]
  }
 ],
 "metadata": {
  "kernelspec": {
   "display_name": "Python 2",
   "language": "python",
   "name": "python2"
  },
  "language_info": {
   "codemirror_mode": {
    "name": "ipython",
    "version": 2
   },
   "file_extension": ".py",
   "mimetype": "text/x-python",
   "name": "python",
   "nbconvert_exporter": "python",
   "pygments_lexer": "ipython2",
   "version": "2.7.6"
  }
 },
 "nbformat": 4,
 "nbformat_minor": 2
}
